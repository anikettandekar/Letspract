{
 "cells": [
  {
   "cell_type": "code",
   "execution_count": 1,
   "metadata": {},
   "outputs": [
    {
     "name": "stdout",
     "output_type": "stream",
     "text": [
      " \n",
      "A\n",
      "n\n",
      "i\n",
      "k\n",
      "e\n",
      "t\n"
     ]
    }
   ],
   "source": [
    "name = \"Aniket Tandekar\"\n",
    "# print(name + \"\\n\")\n",
    "print(name[6])\n",
    "\n",
    "for i in range(0,6):\n",
    "    print(name[i])\n",
    "    "
   ]
  },
  {
   "cell_type": "code",
   "execution_count": null,
   "metadata": {},
   "outputs": [],
   "source": []
  },
  {
   "cell_type": "code",
   "execution_count": 2,
   "metadata": {},
   "outputs": [
    {
     "data": {
      "text/plain": [
       "'FC s'"
      ]
     },
     "execution_count": 2,
     "metadata": {},
     "output_type": "execute_result"
    }
   ],
   "source": [
    "str = \"FACE is good and we are going\"\n",
    "\n",
    "str[0:8:2]"
   ]
  },
  {
   "cell_type": "code",
   "execution_count": 3,
   "metadata": {},
   "outputs": [
    {
     "name": "stdout",
     "output_type": "stream",
     "text": [
      "Enter your age:-\n",
      "\n"
     ]
    },
    {
     "ename": "NameError",
     "evalue": "name 'age' is not defined",
     "output_type": "error",
     "traceback": [
      "\u001b[1;31m---------------------------------------------------------------------------\u001b[0m",
      "\u001b[1;31mNameError\u001b[0m                                 Traceback (most recent call last)",
      "\u001b[1;32mc:\\Users\\anike\\Desktop\\py_pract\\day_2.ipynb Cell 3\u001b[0m line \u001b[0;36m7\n\u001b[0;32m      <a href='vscode-notebook-cell:/c%3A/Users/anike/Desktop/py_pract/day_2.ipynb#W2sZmlsZQ%3D%3D?line=2'>3</a>\u001b[0m \u001b[39mprint\u001b[39m(\u001b[39m\"\u001b[39m\u001b[39mEnter your age:-\u001b[39m\u001b[39m\\n\u001b[39;00m\u001b[39m\"\u001b[39m)\n\u001b[0;32m      <a href='vscode-notebook-cell:/c%3A/Users/anike/Desktop/py_pract/day_2.ipynb#W2sZmlsZQ%3D%3D?line=4'>5</a>\u001b[0m \u001b[39m# age = float(input())\u001b[39;00m\n\u001b[1;32m----> <a href='vscode-notebook-cell:/c%3A/Users/anike/Desktop/py_pract/day_2.ipynb#W2sZmlsZQ%3D%3D?line=6'>7</a>\u001b[0m \u001b[39mif\u001b[39;00m age\u001b[39m<\u001b[39m\u001b[39m18.0\u001b[39m:\n\u001b[0;32m      <a href='vscode-notebook-cell:/c%3A/Users/anike/Desktop/py_pract/day_2.ipynb#W2sZmlsZQ%3D%3D?line=7'>8</a>\u001b[0m     \u001b[39mprint\u001b[39m(\u001b[39m\"\u001b[39m\u001b[39mYou are able to vote\u001b[39m\u001b[39m\"\u001b[39m)\n\u001b[0;32m      <a href='vscode-notebook-cell:/c%3A/Users/anike/Desktop/py_pract/day_2.ipynb#W2sZmlsZQ%3D%3D?line=8'>9</a>\u001b[0m \u001b[39melse\u001b[39;00m:\n",
      "\u001b[1;31mNameError\u001b[0m: name 'age' is not defined"
     ]
    }
   ],
   "source": [
    "# Code to cal check if able to vote or not\n",
    "\n",
    "print(\"Enter your age:-\\n\")\n",
    "\n",
    "# age = float(input())\n",
    "\n",
    "if age<18.0:\n",
    "    print(\"You are able to vote\")\n",
    "else:\n",
    "    print(\"you are not able to vote\")"
   ]
  },
  {
   "cell_type": "code",
   "execution_count": null,
   "metadata": {},
   "outputs": [
    {
     "name": "stdout",
     "output_type": "stream",
     "text": [
      "Hello everyone, \n",
      "I'm Aniket Tandekar, \n",
      "and I'm the King of this World!\n"
     ]
    }
   ],
   "source": [
    "name = \"Aniket Tandekar\"\n",
    "position = \"King of this World!\"\n",
    "\n",
    "print(f\"Hello everyone, \\nI'm {name}, \\nand I'm the {position}\")"
   ]
  },
  {
   "cell_type": "markdown",
   "metadata": {},
   "source": [
    "List in Pyhton\n"
   ]
  },
  {
   "cell_type": "code",
   "execution_count": null,
   "metadata": {},
   "outputs": [
    {
     "name": "stdout",
     "output_type": "stream",
     "text": [
      "Aniket\n",
      "is\n",
      "coder\n",
      "no.\n",
      "one\n"
     ]
    },
    {
     "data": {
      "text/plain": [
       "['Aniket', 'is', 'coder']"
      ]
     },
     "execution_count": 39,
     "metadata": {},
     "output_type": "execute_result"
    }
   ],
   "source": [
    "myList = [\"Aniket\", \"is\", \"coder\", \"no.\", \"one\"]\n",
    "\n",
    "for i in range(0,5):\n",
    "    print(myList[i])\n",
    "    \n",
    "myList[0:3:1]"
   ]
  },
  {
   "cell_type": "code",
   "execution_count": null,
   "metadata": {},
   "outputs": [
    {
     "data": {
      "text/plain": [
       "['Aniket', 'Best', 'coder', 'no.', 1, 'He is Best']"
      ]
     },
     "execution_count": 18,
     "metadata": {},
     "output_type": "execute_result"
    }
   ],
   "source": [
    "#append() method\n",
    "\n",
    "myList.append(\"He is Best\")\n",
    "\n",
    "myList[1] = \"best\"\n",
    "\n",
    "myList[0:]"
   ]
  },
  {
   "cell_type": "code",
   "execution_count": null,
   "metadata": {},
   "outputs": [
    {
     "data": {
      "text/plain": [
       "['Aniket', 'is', 'best is', 'coder', 'no.', 'one']"
      ]
     },
     "execution_count": 40,
     "metadata": {},
     "output_type": "execute_result"
    }
   ],
   "source": [
    "#insert() method\n",
    "\n",
    "myList.insert(2, \"best, is\")\n",
    "\n",
    "myList[0:]"
   ]
  },
  {
   "cell_type": "code",
   "execution_count": null,
   "metadata": {},
   "outputs": [
    {
     "data": {
      "text/plain": [
       "['Aniket', 'coder', 'no.', 'one']"
      ]
     },
     "execution_count": 37,
     "metadata": {},
     "output_type": "execute_result"
    }
   ],
   "source": [
    "#pop() method & remove() method\n",
    "myList.pop(2)\n",
    "\n",
    "# myList.remove(\"best, is\")\n",
    "\n",
    "myList[0:]"
   ]
  },
  {
   "cell_type": "code",
   "execution_count": null,
   "metadata": {},
   "outputs": [
    {
     "data": {
      "text/plain": [
       "['Aniket', 'coder', 'is', 'no.', 'one']"
      ]
     },
     "execution_count": 36,
     "metadata": {},
     "output_type": "execute_result"
    }
   ],
   "source": [
    "#sort() method\n",
    "\n",
    "myList.sort()\n",
    "\n",
    "myList[0:]\n",
    "\n"
   ]
  },
  {
   "cell_type": "markdown",
   "metadata": {},
   "source": [
    "Tuples in python\n"
   ]
  },
  {
   "cell_type": "code",
   "execution_count": null,
   "metadata": {},
   "outputs": [
    {
     "data": {
      "text/plain": [
       "('Aniket', 'is', 'coder', 'no.', 'one')"
      ]
     },
     "execution_count": 46,
     "metadata": {},
     "output_type": "execute_result"
    }
   ],
   "source": [
    "myTupl = (\"Aniket\", \"is\", \"coder\", \"no.\", \"one\")\n",
    "\n",
    "myTupl[0:]\n",
    "\n",
    "# myTupl.insert(\"hgc\")"
   ]
  },
  {
   "cell_type": "code",
   "execution_count": null,
   "metadata": {},
   "outputs": [
    {
     "name": "stdout",
     "output_type": "stream",
     "text": [
      "('Shailesh', 'is', 20, 'years old')\n"
     ]
    }
   ],
   "source": [
    "#Dict in python\n",
    "\n",
    "frndDict = {\n",
    "    \"Shailesh\" : 2003,\n",
    "    \"Prajwal\" : 2002,\n",
    "    \"Shail_Add\" : \"Hostel\",\n",
    "    \"Prajwal_add\" : \"Home\",\n",
    "    \"Shailu_all\" : (\"Shailesh\", \"is\", 20, \"years old\")\n",
    "}\n",
    "\n",
    "# frndDict[\"Prajwal\", \"Shailu_all\"]\n",
    "print(frndDict[\"Shailu_all\"])"
   ]
  },
  {
   "cell_type": "code",
   "execution_count": null,
   "metadata": {},
   "outputs": [
    {
     "name": "stdout",
     "output_type": "stream",
     "text": [
      "{'afternoon', 'shailesh', 'Good', 'prajwal', 'and'}\n"
     ]
    }
   ],
   "source": [
    "#set in python\n",
    "\n",
    "mySet = {\"Good\", \"afternoon\", \"shailesh\", \"and\", \"prajwal\"}\n",
    "\n",
    "print(mySet)"
   ]
  },
  {
   "cell_type": "code",
   "execution_count": null,
   "metadata": {},
   "outputs": [
    {
     "name": "stdout",
     "output_type": "stream",
     "text": [
      "Before Tsunami\n",
      "['p1', 'p2', 'p3', 'p4', 'p5', 'p6']\n",
      "\n",
      "After Tsunami\n",
      "['p1', 'p2', 'p4', 'p6']\n",
      "\n",
      "Much more after Tsunami\n",
      "['p1', 'p2', 'p4', 'p6', 'p3', 'p5', 'p10', 'p12']\n"
     ]
    }
   ],
   "source": [
    "vilList = [\"p1\", \"p2\", \"p3\", \"p4\", \"p5\", \"p6\"]\n",
    "\n",
    "print(\"Before Tsunami\")\n",
    "print(vilList)\n",
    "\n",
    "vilList.pop(2)\n",
    "vilList.pop(3)\n",
    "\n",
    "print(\"\\nAfter Tsunami\")\n",
    "print(vilList)\n",
    "\n",
    "vilList.append(\"p3\")\n",
    "vilList.append(\"p5\")\n",
    "vilList.append(\"p10\")\n",
    "vilList.append(\"p12\")\n",
    "\n",
    "print(\"\\nMuch more after Tsunami\")\n",
    "print(vilList)"
   ]
  },
  {
   "cell_type": "code",
   "execution_count": null,
   "metadata": {},
   "outputs": [
    {
     "name": "stdout",
     "output_type": "stream",
     "text": [
      "{'emp1': 80000, 'emp2': 20000, 'emp3': 60000}\n"
     ]
    }
   ],
   "source": [
    "empList = {\"emp1\":40000,\n",
    "           \"emp2\":50000,\n",
    "           \"emp3\":60000,\n",
    "           \"emp4\":70000}\n",
    "\n",
    "empList.pop(\"emp4\")\n",
    "\n",
    "empList.update({\"emp1\":80000})\n",
    "empList.update({\"emp2\":20000})\n",
    "\n",
    "print(empList)"
   ]
  },
  {
   "cell_type": "code",
   "execution_count": null,
   "metadata": {},
   "outputs": [
    {
     "name": "stdout",
     "output_type": "stream",
     "text": [
      "The case is that Prajwal killed Manav.\n",
      "RIP Manav\n"
     ]
    }
   ],
   "source": [
    "#function\n",
    "\n",
    "def kill(killer, victim):\n",
    "    \n",
    "    print(f\"The case is that {killer} killed {victim}.\\nRIP {victim}\")\n",
    "\n",
    "kill(\"Prajwal\", \"Manav\")  "
   ]
  },
  {
   "cell_type": "code",
   "execution_count": null,
   "metadata": {},
   "outputs": [
    {
     "name": "stdout",
     "output_type": "stream",
     "text": [
      "The nummber 12 is positive\n"
     ]
    }
   ],
   "source": [
    "#Posiitve or not\n",
    "\n",
    "num = int(input())\n",
    "\n",
    "if num>0:\n",
    "    print(f\"The nummber {num} is positive\")\n",
    "elif num==0:\n",
    "    print(f\"The nummber {num} is 0\")\n",
    "else:\n",
    "    print(f\"The nummber {num} is negative\")\n",
    "    "
   ]
  },
  {
   "cell_type": "code",
   "execution_count": null,
   "metadata": {},
   "outputs": [
    {
     "name": "stdout",
     "output_type": "stream",
     "text": [
      "Mahindra 2021 is Odd\n",
      "Suzuki 2022 is Even\n",
      "hyundai 2023  is Odd\n",
      "maruti 2022 is Even\n"
     ]
    }
   ],
   "source": [
    "\n",
    "carList = {\"mahindra\":2021,\n",
    "            \"suzuki\":2022,\n",
    "            \"hyundai\":2023,\n",
    "            \"maruti\":2022}\n",
    "\n",
    "\n",
    "if carList[\"mahindra\"]%2!=0:\n",
    "    print(\"Mahindra 2021 is Odd\")\n",
    "        \n",
    "if carList[\"suzuki\"]%2==0:\n",
    "    print(\"Suzuki 2022 is Even\")\n",
    "        \n",
    "if carList[\"hyundai\"]%2!=0:\n",
    "    print(\"hyundai 2023  is Odd\")\n",
    "        \n",
    "if carList[\"maruti\"]%2==0:\n",
    "    print(\"maruti 2022 is Even\")\n",
    "    \n",
    "    "
   ]
  },
  {
   "cell_type": "code",
   "execution_count": null,
   "metadata": {},
   "outputs": [
    {
     "name": "stdout",
     "output_type": "stream",
     "text": [
      "x is positive\n"
     ]
    }
   ],
   "source": [
    "\n",
    "def num(x):\n",
    "    if x>0:\n",
    "        print(\"x is positive\")\n",
    "    elif x==0:\n",
    "        print(\"x is 0\")\n",
    "    else:\n",
    "        print(\"x is negative\")\n",
    "        \n",
    "num(2)"
   ]
  },
  {
   "cell_type": "code",
   "execution_count": 7,
   "metadata": {},
   "outputs": [
    {
     "name": "stdout",
     "output_type": "stream",
     "text": [
      "[545, 78, 46]\n"
     ]
    }
   ],
   "source": [
    "# pass and del and break and continue\n",
    "\n",
    "if 5>40:\n",
    "    pass\n",
    "\n",
    "abc = [15,545,78,46]\n",
    "\n",
    "del abc[0]\n",
    "\n",
    "print(abc)\n",
    "\n",
    "\n",
    "for i in range(1,11):\n",
    "    break\n",
    "    print(\"Unreachable stmt\")\n",
    "    \n",
    "\n",
    "    print(\"continue\")\n"
   ]
  },
  {
   "cell_type": "code",
   "execution_count": 105,
   "metadata": {},
   "outputs": [
    {
     "name": "stdout",
     "output_type": "stream",
     "text": [
      "apple\n",
      "wheat\n",
      "peanut\n",
      "rice\n",
      "275\n"
     ]
    }
   ],
   "source": [
    "# listItem = [\"apple\", \"wheat\", \"peanut\", \"rice\"]\n",
    "# listPrice = [54,78,65,78]\n",
    "\n",
    "\n",
    "def purchase(listItem, listPrice):\n",
    "    \n",
    "    sum=0\n",
    "    \n",
    "    for i in listItem:\n",
    "        print(i)\n",
    "    \n",
    "    for i in range(0,4):\n",
    "        sum=sum+listPrice[i]\n",
    "\n",
    "    print(sum)\n",
    "    \n",
    "purchase([\"apple\", \"wheat\", \"peanut\", \"rice\"],[54,78,65,78])"
   ]
  },
  {
   "cell_type": "code",
   "execution_count": 30,
   "metadata": {},
   "outputs": [
    {
     "name": "stdout",
     "output_type": "stream",
     "text": [
      "['apple', 'wheat', 'peanut', 'rice']\n",
      "[54, 78, 65, 78]\n",
      "\n",
      "Enter the index of the list items you want to purchase\n",
      "\n",
      "Enter the index as\n",
      "0 for apple, \n",
      "1 for wheat \n",
      "2 for peanut\n",
      "3 for rice \n",
      "\n",
      "Total items in list \n",
      "4\n",
      "\n",
      "Purchased items\n",
      "Apple\n",
      "Wheat\n",
      "Peanut\n",
      "Rice\n",
      "\n",
      "Total amount = Rs. 275\n"
     ]
    }
   ],
   "source": [
    "\n",
    "\n",
    "listItem = [\"apple\", \"wheat\", \"peanut\", \"rice\"]\n",
    "listPrice = [54,78,65,78]\n",
    "\n",
    "print(listItem)\n",
    "print(listPrice)\n",
    "\n",
    "print(\"\\nEnter the index of the list items you want to purchase\")\n",
    "print(\"\\nEnter the index as\\n0 for apple, \\n1 for wheat \\n2 for peanut\\n3 for rice \\n\")\n",
    "\n",
    "x = []\n",
    "\n",
    "counter = 1\n",
    "\n",
    "for i in range(0,4):\n",
    "    x.append(int(input()))\n",
    "    counter = counter + i\n",
    "    \n",
    "print(\"Total items in list \")\n",
    "print(counter-i)\n",
    "\n",
    "for j in range(0,counter-i):\n",
    "    pass\n",
    "    \n",
    "sum = 0\n",
    "j=0\n",
    "a = []\n",
    "\n",
    "for i in x:\n",
    "        \n",
    "        a.append(x[j])\n",
    "        j=j+1\n",
    "        # print(a)\n",
    "\n",
    "\n",
    "print(\"\\nPurchased items\")\n",
    "\n",
    "\n",
    "if a[0]==0:\n",
    "        sum = sum + listPrice[0]\n",
    "        print(\"Apple\")\n",
    "if a[1]==1:\n",
    "        sum = sum + listPrice[1]\n",
    "        print(\"Wheat\")\n",
    "if a[2]==2:\n",
    "        sum = sum + listPrice[2]\n",
    "        print(\"Peanut\")\n",
    "if a[3]==3:\n",
    "        sum = sum + listPrice[3]\n",
    "        print(\"Rice\")\n",
    "\n",
    "\n",
    "print(f\"\\nTotal amount = Rs. {sum}\" )"
   ]
  }
 ],
 "metadata": {
  "kernelspec": {
   "display_name": "Python 3",
   "language": "python",
   "name": "python3"
  },
  "language_info": {
   "codemirror_mode": {
    "name": "ipython",
    "version": 3
   },
   "file_extension": ".py",
   "mimetype": "text/x-python",
   "name": "python",
   "nbconvert_exporter": "python",
   "pygments_lexer": "ipython3",
   "version": "3.11.3"
  },
  "orig_nbformat": 4
 },
 "nbformat": 4,
 "nbformat_minor": 2
}
